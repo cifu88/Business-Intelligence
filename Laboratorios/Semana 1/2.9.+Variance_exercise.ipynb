{
 "cells": [
  {
   "attachments": {},
   "cell_type": "markdown",
   "metadata": {},
   "source": [
    "# Variance Background:\n",
    "You have the annual personal income of 11 people from the USA. You have the mean income from the exercise on mean, median and mode."
   ]
  },
  {
   "cell_type": "code",
   "execution_count": 2,
   "metadata": {},
   "outputs": [],
   "source": [
    "income = [62000.00, 64000.00,49000.00,324000.00,1264000.00,54330.00,64000.00,51000.00,55000.00,48000.00,53000.00]"
   ]
  },
  {
   "attachments": {},
   "cell_type": "markdown",
   "metadata": {},
   "source": [
    "## Task 1:\n",
    "Decide whether you have to use sample or population formula for the variance.\n",
    "\n",
    "## R:\n",
    "The correct formula for this exercise is the sample formula because the USA population is bigger than 11 people.\n",
    "- The variance formula is: (SUM(x-x̄)**2)/n"
   ]
  },
  {
   "attachments": {},
   "cell_type": "markdown",
   "metadata": {},
   "source": [
    "## Task 2:\n",
    "Calculate the variance of their income:"
   ]
  },
  {
   "cell_type": "code",
   "execution_count": 4,
   "metadata": {},
   "outputs": [
    {
     "name": "stdout",
     "output_type": "stream",
     "text": [
      "The mean is =  189848.18\n",
      "The variance is =  133433409536.36\n"
     ]
    }
   ],
   "source": [
    "import statistics as st\n",
    "\n",
    "mean = st.mean(income)\n",
    "print(\"The mean is = \", round(mean,2))\n",
    "var = st.variance(income)\n",
    "print(\"The variance is = \",round(var,2))"
   ]
  },
  {
   "attachments": {},
   "cell_type": "markdown",
   "metadata": {},
   "source": [
    "## Task 3:\n",
    "Generally, what does this number tell you?\n",
    "\n",
    "## R:\n",
    "The variance is a much greater than the mean, this is because there is a big dispertion on the data. With that we can deduce that the annual income in USA is not similar."
   ]
  }
 ],
 "metadata": {
  "kernelspec": {
   "display_name": "Python 3",
   "language": "python",
   "name": "python3"
  },
  "language_info": {
   "codemirror_mode": {
    "name": "ipython",
    "version": 3
   },
   "file_extension": ".py",
   "mimetype": "text/x-python",
   "name": "python",
   "nbconvert_exporter": "python",
   "pygments_lexer": "ipython3",
   "version": "3.10.7"
  },
  "orig_nbformat": 4,
  "vscode": {
   "interpreter": {
    "hash": "0500ee97a5acf692a3fae68c042a7fe2448beaab5db2844a869d8b9e06d99759"
   }
  }
 },
 "nbformat": 4,
 "nbformat_minor": 2
}
