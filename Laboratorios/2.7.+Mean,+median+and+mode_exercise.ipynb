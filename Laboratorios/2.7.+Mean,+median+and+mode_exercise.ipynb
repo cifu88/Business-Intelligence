{
 "cells": [
  {
   "attachments": {},
   "cell_type": "markdown",
   "metadata": {},
   "source": [
    "# Mean, median and mode Background:\n",
    "You have a sample of 11 people and their personal annual income. "
   ]
  },
  {
   "cell_type": "code",
   "execution_count": 14,
   "metadata": {},
   "outputs": [],
   "source": [
    "income = [62000.00, 64000.00,49000.00,324000.00,1264000.00,54330.00,64000.00,51000.00,55000.00,48000.00,53000.00]"
   ]
  },
  {
   "attachments": {},
   "cell_type": "markdown",
   "metadata": {},
   "source": [
    "## Task1: \n",
    "Calculate the mean, median and mode"
   ]
  },
  {
   "cell_type": "code",
   "execution_count": 15,
   "metadata": {},
   "outputs": [],
   "source": [
    "import statistics as st"
   ]
  },
  {
   "cell_type": "code",
   "execution_count": 16,
   "metadata": {},
   "outputs": [
    {
     "name": "stdout",
     "output_type": "stream",
     "text": [
      "The annual income mean is =  189848.18\n"
     ]
    }
   ],
   "source": [
    "#Annual income mean\n",
    "mean = st.mean(income)\n",
    "print(\"The annual income mean is = \",round(mean,2))"
   ]
  },
  {
   "cell_type": "code",
   "execution_count": 17,
   "metadata": {},
   "outputs": [
    {
     "name": "stdout",
     "output_type": "stream",
     "text": [
      "The annual income median is =  55000.0\n"
     ]
    }
   ],
   "source": [
    "#Annual income median\n",
    "median = st.median(income)\n",
    "print(\"The annual income median is = \",median)"
   ]
  },
  {
   "cell_type": "code",
   "execution_count": 18,
   "metadata": {},
   "outputs": [
    {
     "name": "stdout",
     "output_type": "stream",
     "text": [
      "The annual income mode is =  64000.0\n"
     ]
    }
   ],
   "source": [
    "#Annual income mode\n",
    "mode = st.mode(income)\n",
    "print(\"The annual income mode is = \",mode)"
   ]
  },
  {
   "attachments": {},
   "cell_type": "markdown",
   "metadata": {},
   "source": [
    "## Task2:\n",
    "Try to interpret on the numbers you got\n",
    "\n",
    "### R:\n",
    "- The mean is 189848.18$, this means that if all the money is share equally everyone will receive this amount.\n",
    "\n",
    "- The median is 55000$ which means that the 50% get 55000$ or less in the annual income.\n",
    "\n",
    "- The mode is 64000$ this means that the most common value for the annual income is 64000$."
   ]
  }
 ],
 "metadata": {
  "kernelspec": {
   "display_name": "Python 3",
   "language": "python",
   "name": "python3"
  },
  "language_info": {
   "codemirror_mode": {
    "name": "ipython",
    "version": 3
   },
   "file_extension": ".py",
   "mimetype": "text/x-python",
   "name": "python",
   "nbconvert_exporter": "python",
   "pygments_lexer": "ipython3",
   "version": "3.10.7"
  },
  "orig_nbformat": 4,
  "vscode": {
   "interpreter": {
    "hash": "0500ee97a5acf692a3fae68c042a7fe2448beaab5db2844a869d8b9e06d99759"
   }
  }
 },
 "nbformat": 4,
 "nbformat_minor": 2
}
