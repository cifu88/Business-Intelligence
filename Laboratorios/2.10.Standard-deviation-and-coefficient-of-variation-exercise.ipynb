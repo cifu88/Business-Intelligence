{
 "cells": [
  {
   "attachments": {},
   "cell_type": "markdown",
   "metadata": {},
   "source": [
    "# Standard deviation and coefficient of variation Background:\n",
    "You have the annual personal income of 11 people from the USA and 11 from Denmark. You have the mean income for USA from previous exercises."
   ]
  },
  {
   "cell_type": "code",
   "execution_count": 1,
   "metadata": {},
   "outputs": [],
   "source": [
    "import statistics as st\n",
    "import numpy as np"
   ]
  },
  {
   "cell_type": "code",
   "execution_count": 2,
   "metadata": {},
   "outputs": [],
   "source": [
    "usa = [62000.00, 64000.00,49000.00,324000.00,1264000.00,54330.00,64000.00,51000.00,55000.00,48000.00,53000.00]\n",
    "den = [462852.37, 470317.73,567367.42,589763.50,500179.17,492713.81,515109.89,507644.53,425525.56,522575.25,500179.17]"
   ]
  },
  {
   "attachments": {},
   "cell_type": "markdown",
   "metadata": {},
   "source": [
    "## Task 1:\n",
    "Decide whether you have to use sample or population formula for the standard deviation and the coefficient of variation.\n",
    "\n",
    "### R: \n",
    "The correct formula for this exercise is the sample formula because the USA or Denmark population is bigger than 11 people.\n",
    "- The standar derivation formula is: sqrt((SUM(x-x̄)**2)/n-1)\n",
    "- The coefficient of variation formula is: (standar_derivation/mean)*100 "
   ]
  },
  {
   "attachments": {},
   "cell_type": "markdown",
   "metadata": {},
   "source": [
    "## Task 2:\n",
    "Calculate the standard deviation of income in the USA and in Denmark"
   ]
  },
  {
   "cell_type": "code",
   "execution_count": 3,
   "metadata": {},
   "outputs": [
    {
     "name": "stdout",
     "output_type": "stream",
     "text": [
      "USA mean =  189848.18\n",
      "Denmark mean =  504929.85\n"
     ]
    }
   ],
   "source": [
    "#Mean of USA and Denmark\n",
    "\n",
    "usa_mean = round(np.mean(usa),2)\n",
    "print(\"USA mean = \",usa_mean)\n",
    "den_mean = round(np.mean(den),2)\n",
    "print(\"Denmark mean = \",den_mean)"
   ]
  },
  {
   "cell_type": "code",
   "execution_count": 4,
   "metadata": {},
   "outputs": [
    {
     "name": "stdout",
     "output_type": "stream",
     "text": [
      "USA varance is =  133433409536.36\n",
      "Denmark variance is =  2098548516.15\n"
     ]
    }
   ],
   "source": [
    "#Variance of USA and Denmark\n",
    "\n",
    "usa_var = st.variance(usa)\n",
    "print(\"USA varance is = \",round(usa_var,2))\n",
    "den_var = st.variance(den)\n",
    "print(\"Denmark variance is = \",round(den_var,2))"
   ]
  },
  {
   "cell_type": "code",
   "execution_count": 5,
   "metadata": {},
   "outputs": [
    {
     "name": "stdout",
     "output_type": "stream",
     "text": [
      "USA standard variation is =  365285.38\n",
      "Denmark standard variation is =  45809.92\n"
     ]
    }
   ],
   "source": [
    "usa_std = st.stdev(usa)\n",
    "print(\"USA standard variation is = \",round(usa_std,2))\n",
    "den_std = st.stdev(den)\n",
    "print(\"Denmark standard variation is = \",round(den_std,2))"
   ]
  },
  {
   "attachments": {},
   "cell_type": "markdown",
   "metadata": {},
   "source": [
    "## Task 3:\n",
    "Calculate the coefficient of variation of income in the USA and in Denmark"
   ]
  },
  {
   "cell_type": "code",
   "execution_count": 6,
   "metadata": {},
   "outputs": [
    {
     "name": "stdout",
     "output_type": "stream",
     "text": [
      "USA coefficient of variation is =  192.41\n",
      "Denmark coefficient of variation is =  9.07\n"
     ]
    }
   ],
   "source": [
    "usa_cv = (usa_std/usa_mean)*100\n",
    "print(\"USA coefficient of variation is = \",round(usa_cv,2))\n",
    "den_cv = (den_std/den_mean)*100\n",
    "print(\"Denmark coefficient of variation is = \",round(den_cv,2))"
   ]
  },
  {
   "attachments": {},
   "cell_type": "markdown",
   "metadata": {},
   "source": [
    "## Task 4:\n",
    "Try to interpret the numbers you got\n",
    "\n",
    "### R:\n",
    "With the results showed before, I can say that the annual incomme in USA has a very big variation which means that there is a very big disproportion in the USA salaries. Instead, Denmark has a low variation of the salaries which means that the salaries are similar.\n",
    "Is important to emphasize that I used a very small sample of the population, probablly with more data the results will change."
   ]
  }
 ],
 "metadata": {
  "kernelspec": {
   "display_name": "Python 3",
   "language": "python",
   "name": "python3"
  },
  "language_info": {
   "codemirror_mode": {
    "name": "ipython",
    "version": 3
   },
   "file_extension": ".py",
   "mimetype": "text/x-python",
   "name": "python",
   "nbconvert_exporter": "python",
   "pygments_lexer": "ipython3",
   "version": "3.10.7"
  },
  "orig_nbformat": 4,
  "vscode": {
   "interpreter": {
    "hash": "0500ee97a5acf692a3fae68c042a7fe2448beaab5db2844a869d8b9e06d99759"
   }
  }
 },
 "nbformat": 4,
 "nbformat_minor": 2
}
